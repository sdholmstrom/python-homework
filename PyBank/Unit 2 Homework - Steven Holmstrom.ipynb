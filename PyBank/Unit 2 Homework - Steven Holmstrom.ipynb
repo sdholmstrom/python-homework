{
 "cells": [
  {
   "cell_type": "code",
   "execution_count": 38,
   "id": "18e5be20-29a8-4cf8-98c0-45a51bcc8b3c",
   "metadata": {},
   "outputs": [],
   "source": [
    "# Import Path from pathlib library, csv function\n",
    "from pathlib import Path\n",
    "import csv"
   ]
  },
  {
   "cell_type": "code",
   "execution_count": 39,
   "id": "e147e9b7-24c5-4ec1-baf1-0d6bf9e05798",
   "metadata": {},
   "outputs": [],
   "source": [
    "# Establish file path\n",
    "csvpath = Path('Resources/budget_data.csv')"
   ]
  },
  {
   "cell_type": "code",
   "execution_count": 40,
   "id": "583da0ce-b4af-4757-ada0-4c0961ca0af0",
   "metadata": {},
   "outputs": [],
   "source": [
    "trading_pnl = []\n",
    "\n",
    "# Open the input path as a file object\n",
    "with open(csvpath, 'r') as file:\n",
    "   \n",
    "    # Pass in the csv file to the csv.reader() function\n",
    "    csvreader = csv.reader(file, delimiter=',')\n",
    "    # Go to the next row from the start of the file\n",
    "    header = next(csvreader)\n",
    "    # Read each row of data after the header\n",
    "    for row in csvreader:\n",
    "        # Set pnl variable equal to the value in the 2nd column of each row\n",
    "        pnl = int(row[1])\n",
    "        # Append the row pnl value to the list of Proft/Losses\n",
    "        trading_pnl.append(pnl)"
   ]
  },
  {
   "cell_type": "code",
   "execution_count": 43,
   "id": "f7460851-6919-4ddc-95b4-df55255722fb",
   "metadata": {},
   "outputs": [
    {
     "name": "stdout",
     "output_type": "stream",
     "text": [
      "---------Summary Statistics----------\n",
      "Number of Total Trading Days: 86\n",
      "Total Profits: $38382578\n",
      "Average Change: $-2315.1176470588234\n",
      "Greatest Increase in Profits: $1926159\n",
      "Greatest Decrease in Profits: $-2196167\n"
     ]
    }
   ],
   "source": [
    "# Define Profitable and Unprofitable Days Lists\n",
    "profitable_days = []\n",
    "unprofitable_days = []\n",
    "avg_pnl_change = []\n",
    "\n",
    "# Define Metrics\n",
    "count = 0\n",
    "total = 0\n",
    "average = 0\n",
    "maximum = 0\n",
    "minimum = 0\n",
    "\n",
    "prev_pnl = 0\n",
    "\n",
    "for pnl in trading_pnl:\n",
    "\n",
    "    # Cumulatively sum up the total profits/losses and count of trading days\n",
    "    total += pnl\n",
    "    count += 1\n",
    "\n",
    "    # Logic to calculate change between dates\n",
    "    pnl_change = pnl - prev_pnl\n",
    "    prev_pnl = pnl\n",
    "    avg_pnl_change.append(pnl_change)\n",
    "    \n",
    "    # Logic to determine minimum and maximum values\n",
    "    if minimum == 0:\n",
    "        minimum = pnl_change\n",
    "    elif pnl_change < minimum:\n",
    "        minimum = pnl_change\n",
    "    elif pnl_change > maximum:\n",
    "        maximum = pnl_change\n",
    "        \n",
    "        \n",
    "avg_pnl_change.pop(0)\n",
    "average = sum(avg_pnl_change)/len(avg_pnl_change)\n",
    "        \n",
    "# Print out the summary statistics\n",
    "print('---------Summary Statistics----------')\n",
    "print(f'Number of Total Trading Days: {count}')\n",
    "print(f'Total Profits: ${total}')\n",
    "print(f'Average Change: ${average}')\n",
    "print(f'Greatest Increase in Profits: ${maximum}')\n",
    "print(f'Greatest Decrease in Profits: ${minimum}')"
   ]
  },
  {
   "cell_type": "code",
   "execution_count": null,
   "id": "2528869d-b85d-4d22-aa88-5aee2e03ccbe",
   "metadata": {},
   "outputs": [],
   "source": []
  }
 ],
 "metadata": {
  "kernelspec": {
   "display_name": "Python 3 (ipykernel)",
   "language": "python",
   "name": "python3"
  },
  "language_info": {
   "codemirror_mode": {
    "name": "ipython",
    "version": 3
   },
   "file_extension": ".py",
   "mimetype": "text/x-python",
   "name": "python",
   "nbconvert_exporter": "python",
   "pygments_lexer": "ipython3",
   "version": "3.10.11"
  }
 },
 "nbformat": 4,
 "nbformat_minor": 5
}
